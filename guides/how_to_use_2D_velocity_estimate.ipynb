{
 "cells": [
  {
   "cell_type": "markdown",
   "metadata": {},
   "source": [
    "## How to use 2D velocity estimate functions\n",
    "\n",
    "This notebook shows how to use `two_dim_velocity_estimates.py` to get a 2D velocity field from either cross-correlation or cross conditional average method\n",
    "\n",
    "1. estimate_velocity_field() will return a class containing estimation data of all pixels\n",
    "\n",
    "    movie_data = tdve.estimate_velocity_field(sliced_ds)\n",
    "    vx = movie_data.get_vx()\n",
    "    vy = movie_data.get_vy()\n",
    "    confidences = movie_data.get_confidences()\n",
    "    R = movie_data.get_R()\n",
    "    Z = movie_data.get_Z()\n",
    "\n",
    "\n",
    "2. "
   ]
  },
  {
   "cell_type": "code",
   "execution_count": null,
   "metadata": {},
   "outputs": [],
   "source": [
    "import xarray as xr\n",
    "import numpy as np\n",
    "import matplotlib.pyplot as plt\n",
    "\n",
    "import fppanalysis.two_dim_velocity_estimates as tdve"
   ]
  },
  {
   "cell_type": "markdown",
   "metadata": {},
   "source": [
    "#### Extract estimated velocities\n",
    "\n",
    "For cross conditional average method the signal must be normalized \n",
    "\n",
    "'run_norm_ds' is a function that normalizes the signal"
   ]
  },
  {
   "cell_type": "code",
   "execution_count": null,
   "metadata": {},
   "outputs": [],
   "source": [
    "if method == \"cond_av\":\n",
    "\n",
    "\n",
    "    norm_ds = run_norm_ds(sliced_ds, cut_off_freq=1e3)\n",
    "    movie_data = tdve.estimate_velocity_field(\n",
    "        norm_ds,\n",
    "        method,\n",
    "        min_threshold=min_threshold,\n",
    "        max_threshold=max_threshold,\n",
    "        delta=delta,\n",
    "        window=window,\n",
    "    )\n",
    "    vx = movie_data.get_vx()\n",
    "    vy = movie_data.get_vy()\n",
    "    confidences = movie_data.get_confidences()\n",
    "    R = movie_data.get_R()\n",
    "    Z = movie_data.get_Z()\n",
    "    events = movie_data.get_events()\n",
    "else:\n",
    "    movie_data = tdve.estimate_velocity_field(sliced_ds)\n",
    "    vx = movie_data.get_vx()\n",
    "    vy = movie_data.get_vy()\n",
    "    confidences = movie_data.get_confidences()\n",
    "    R = movie_data.get_R()\n",
    "    Z = movie_data.get_Z()"
   ]
  }
 ],
 "metadata": {
  "kernelspec": {
   "display_name": "fpp",
   "language": "python",
   "name": "python3"
  },
  "language_info": {
   "codemirror_mode": {
    "name": "ipython",
    "version": 3
   },
   "file_extension": ".py",
   "mimetype": "text/x-python",
   "name": "python",
   "nbconvert_exporter": "python",
   "pygments_lexer": "ipython3",
   "version": "3.10.6"
  },
  "orig_nbformat": 4
 },
 "nbformat": 4,
 "nbformat_minor": 2
}
