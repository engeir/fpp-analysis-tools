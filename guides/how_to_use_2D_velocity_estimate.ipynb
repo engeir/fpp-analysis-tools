{
  "cells": [
    {
      "cell_type": "markdown",
      "metadata": {
        "id": "2PSkb34UkDQN"
      },
      "source": [
        "## How to use 2D velocity estimate functions\n",
        "\n",
        "This notebook shows how to use `two_dim_velocity_estimates.py` to get a 2D velocity field for experimental data (APD) using a time delay estimation method based on either\n",
        "- cross correlation\n",
        "- cross conditional average\n",
        "\n",
        "APD stands for Avalanche Photodiodes which is a gas puff imaging diagnotic consisiting of 9x10 array of toroidal views of a localized gas puff.\n",
        "\n",
        "Documentation on how to generate raw apd dataset: https://github.com/sajidah-ahmed/cmod_functions/blob/main/guides/how_to_use_raw_APD_datatset_function.ipynb\n",
        "\n",
        "Documentation on xarray can be found here: https://docs.xarray.dev/en/stable/getting-started-guide/quick-overview.html"
      ]
    },
    {
      "cell_type": "code",
      "execution_count": 20,
      "metadata": {
        "id": "uG5i4LwzkDQO"
      },
      "outputs": [],
      "source": [
        "import numpy as np\n",
        "import xarray as xr\n",
        "import matplotlib as mpl\n",
        "import matplotlib.pyplot as plt\n",
        "from pathlib import Path\n",
        "import fppanalysis.two_dim_velocity_estimates as tdve\n",
        "import fppanalysis.utils as u\n",
        "import fppanalysis.time_delay_estimation as td\n",
        "import cosmoplots"
      ]
    },
    {
      "cell_type": "markdown",
      "metadata": {
        "id": "MQ7I8GRxkDQP"
      },
      "source": [
        "For experimental data:\n",
        "\n",
        "(Note: Experimental data should be normalized. --> Normalize xarray dataset. Include LCFS and limiter position)"
      ]
    },
    {
      "cell_type": "code",
      "execution_count": 2,
      "metadata": {
        "id": "6HyHtwGjkDQP"
      },
      "outputs": [],
      "source": [
        "path = Path(\"~/notebooks/gpi\") # Change this to your path\n",
        "shot = 1111208034\n",
        "#ds = xr.open_dataset(str(path) + \"/\" + f\"apd_signal_array_{shot}.nc\")   # Data is already extraced from the MDS tree\n",
        "\n",
        "ds = xr.open_dataset(\"~/notebooks/gpi/1111208034_small.nc\")"
      ]
    },
    {
      "cell_type": "markdown",
      "metadata": {
        "id": "Udt5VsXCkDQP"
      },
      "source": [
        "## Cross correlation"
      ]
    },
    {
      "cell_type": "markdown",
      "metadata": {
        "id": "i7bJS2_2kDQP"
      },
      "source": [
        "`estimate_velocity_field()` will return a class containing estimated velocity data of all pixels.\n",
        "\n",
        "The estimation parameters are set in the EstimationOptions class, which is accepted as an argument of `estimate_velocity_field()`.\n",
        "\n",
        "By default a cross-correlation based method is used to estimate time delays. This can be changed by setting EstimationOptions.method.\n",
        "\n",
        "method = TDEMethod.CC is set as default"
      ]
    },
    {
      "cell_type": "code",
      "source": [
        "eo = tdve.EstimationOptions()\n",
        "print(eo.method)"
      ],
      "metadata": {
        "colab": {
          "base_uri": "https://localhost:8080/"
        },
        "id": "a6OS3KiOqI8H",
        "outputId": "e75a1783-4c19-463a-b091-2589da2b4c0b"
      },
      "execution_count": 3,
      "outputs": [
        {
          "output_type": "stream",
          "name": "stdout",
          "text": [
            "TDEMethod.CC\n"
          ]
        }
      ]
    },
    {
      "cell_type": "markdown",
      "source": [
        "In addition to the own parameters in the EstimationOptions class, further time delay estimation options are specified in EstimationOptions.cc_options, EstimationOptions.cca_options and EstimationOptions.ccf_options. If you use cross-correlation time-delay estimation method (by setting method=TDEMethod.CC), you only need to specify EstimationOptions.cc_options, and likewise for the other methods."
      ],
      "metadata": {
        "id": "-ZpqfzOtrji6"
      }
    },
    {
      "cell_type": "code",
      "source": [
        "print(eo.cc_options)"
      ],
      "metadata": {
        "colab": {
          "base_uri": "https://localhost:8080/"
        },
        "id": "njaugfsCrbjN",
        "outputId": "e98df0fb-4360-4466-b1be-16218c98979e"
      },
      "execution_count": 8,
      "outputs": [
        {
          "output_type": "stream",
          "name": "stdout",
          "text": [
            "CC Window: 100, Running Mean: True, Running Mean Window Max: 7, Interpolate: False\n"
          ]
        }
      ]
    },
    {
      "cell_type": "markdown",
      "source": [
        "Check out the documentation of the option class for the time delay estimation method you plan to use to get an overview of the parameters.\n",
        "All parameters have default values, but most likely you will want to set some of these by your own.\n",
        "\n",
        "Some important options are:"
      ],
      "metadata": {
        "id": "ZZ7-nJnmt_Yj"
      }
    },
    {
      "cell_type": "code",
      "source": [
        "eo.use_3point_method # [bool] If False, use 2 point method to estimate velocities from time delays."
      ],
      "metadata": {
        "colab": {
          "base_uri": "https://localhost:8080/"
        },
        "id": "ov4rsjnHq3a-",
        "outputId": "ba9a4c4f-8cd8-410a-a572-f329673ee6b3"
      },
      "execution_count": 10,
      "outputs": [
        {
          "output_type": "execute_result",
          "data": {
            "text/plain": [
              "True"
            ]
          },
          "metadata": {},
          "execution_count": 10
        }
      ]
    },
    {
      "cell_type": "code",
      "source": [
        "eo.cc_options.cc_window # Size of the window of time lags considered for the cross-correlation function"
      ],
      "metadata": {
        "colab": {
          "base_uri": "https://localhost:8080/"
        },
        "id": "a4q-Wa4NwGlG",
        "outputId": "869e7960-c4f8-4c67-f536-28fcae0dbabf"
      },
      "execution_count": 11,
      "outputs": [
        {
          "output_type": "execute_result",
          "data": {
            "text/plain": [
              "100"
            ]
          },
          "metadata": {},
          "execution_count": 11
        }
      ]
    },
    {
      "cell_type": "code",
      "source": [
        "eo.cc_options.interpolate # Should interpolate ccf to find the maximum (if set to False, the time delays are restricted to integer multiples of the sampling time)"
      ],
      "metadata": {
        "colab": {
          "base_uri": "https://localhost:8080/"
        },
        "id": "7qRsuDqbwWOh",
        "outputId": "b37fa28d-3de8-4512-e7b1-46c9ac2ff6b5"
      },
      "execution_count": 12,
      "outputs": [
        {
          "output_type": "execute_result",
          "data": {
            "text/plain": [
              "False"
            ]
          },
          "metadata": {},
          "execution_count": 12
        }
      ]
    },
    {
      "cell_type": "code",
      "execution_count": 13,
      "metadata": {
        "colab": {
          "base_uri": "https://localhost:8080/"
        },
        "id": "_RyZsBx2kDQP",
        "outputId": "8b27b372-d762-4411-89e6-5c53748e337d"
      },
      "outputs": [
        {
          "output_type": "stream",
          "name": "stderr",
          "text": [
            "/home/sosno/Git/fpp-analysis-tools/fppanalysis/time_delay_estimation.py:486: UserWarning: Maximum running window achieved between pixels (3, 0) and (1, 0)\n",
            "  if ccf is None:\n",
            "/home/sosno/Git/fpp-analysis-tools/fppanalysis/time_delay_estimation.py:486: UserWarning: Maximum running window achieved between pixels (8, 3) and (8, 1)\n",
            "  if ccf is None:\n",
            "/home/sosno/Git/fpp-analysis-tools/fppanalysis/time_delay_estimation.py:486: UserWarning: Maximum running window achieved between pixels (8, 4) and (8, 3)\n",
            "  if ccf is None:\n",
            "/home/sosno/Git/fpp-analysis-tools/fppanalysis/time_delay_estimation.py:486: UserWarning: Maximum running window achieved between pixels (7, 9) and (7, 8)\n",
            "  if ccf is None:\n"
          ]
        }
      ],
      "source": [
        "movie_data = tdve.estimate_velocity_field(ds, eo)"
      ]
    },
    {
      "cell_type": "markdown",
      "metadata": {
        "id": "aCCaAvWFkDQP"
      },
      "source": [
        "Extract estimated velocities and their confidences for each pixel\n",
        "\n",
        "Confindeces are given as the maximum value of the cross correlation function at which the time lag is computed"
      ]
    },
    {
      "cell_type": "code",
      "execution_count": 14,
      "metadata": {
        "id": "CSiSWLSskDQP"
      },
      "outputs": [],
      "source": [
        "vx = movie_data.get_vx()\n",
        "vy = movie_data.get_vy()\n",
        "confidences = movie_data.get_confidences()\n",
        "R = movie_data.get_R()\n",
        "Z = movie_data.get_Z()"
      ]
    },
    {
      "cell_type": "code",
      "execution_count": 18,
      "metadata": {
        "id": "IS0f_wZskDQP"
      },
      "outputs": [],
      "source": [
        "R_coordinates, Z_coordinates = u.get_rz_full(ds)"
      ]
    },
    {
      "cell_type": "markdown",
      "metadata": {
        "id": "vhqN8JCwkDQP"
      },
      "source": [
        "Use quiver to plot the velocity field."
      ]
    },
    {
      "cell_type": "code",
      "execution_count": 19,
      "metadata": {
        "colab": {
          "base_uri": "https://localhost:8080/",
          "height": 274
        },
        "id": "k5SM1D99kDQP",
        "outputId": "fb854603-169e-44a2-8ae6-7e6ed94e9d69"
      },
      "outputs": [
        {
          "output_type": "display_data",
          "data": {
            "text/plain": [
              "<Figure size 432x288 with 2 Axes>"
            ],
            "image/png": "[encoded data removed]"
          },
          "metadata": {
            "needs_background": "light"
          }
        }
      ],
      "source": [
        "axes_size = cosmoplots.set_rcparams_dynamo(plt.rcParams, num_cols=1, ls=\"thin\")\n",
        "plt.rcParams[\"mathtext.fontset\"] = \"custom\"\n",
        "\n",
        "fig = plt.figure()\n",
        "ax = fig.add_axes(axes_size)\n",
        "norm = mpl.colors.Normalize(vmin=0, vmax=1)\n",
        "qiv = ax.quiver(\n",
        "    R,\n",
        "    Z,\n",
        "    vx,\n",
        "    vy,\n",
        "    confidences,\n",
        "    scale=210000,   # Scale arrows\n",
        "    scale_units=\"xy\",\n",
        "    angles=\"xy\",\n",
        "    norm=norm,\n",
        ")\n",
        "cbar = fig.colorbar(qiv, format=\"%.2f\")\n",
        "cbar.ax.set_ylabel(r\"$CC_{max} $\")\n",
        "ax.set_xlabel(\"R [cm]\")\n",
        "ax.set_ylabel(\"Z [cm]\")\n",
        "ax.set_ylim(min(Z_coordinates[0]) - 0.5, max(Z_coordinates[0] + 0.5))\n",
        "ax.set_xlim([min(R_coordinates[:, 0]) - 0.5, max(R_coordinates[:, 0]) + 0.5])\n",
        "plt.show()"
      ]
    },
    {
      "cell_type": "markdown",
      "metadata": {
        "id": "544NW8FFkDQQ"
      },
      "source": [
        "## Cross conditional average\n",
        "\n",
        "To use cross conditional average, we need to change the default estimation options. To do that we instantiate an object of type EstimationOptions with method as TDEMethod.CA. The following parameters might then be relevant to set to non-default values aswell:\n",
        "\n",
        "- min_threshold: Lowest threshold for conditional average method\n",
        "- max_threshold: Maxiumum threshold for conditional average method\n",
        "- delta: If window = True, delta is the minimal distance between two peaks.\n",
        "- window: [bool] If True, delta also gives the minimal distance between peaks.\n"
      ]
    },
    {
      "cell_type": "code",
      "execution_count": 24,
      "metadata": {
        "id": "DTl3fJhdkDQQ"
      },
      "outputs": [],
      "source": [
        "eo = tdve.EstimationOptions()\n",
        "eo.method = td.TDEMethod.CA\n",
        "\n",
        "min_threshold, max_threshold = 2.5, np.inf\n",
        "\n",
        "eo.ca_options = td.CAOptions(min_threshold=min_threshold, max_threshold=max_threshold, delta=1.1e-4, window=True)\n",
        "\n",
        "movie_data = tdve.estimate_velocity_field(ds, eo)"
      ]
    },
    {
      "cell_type": "markdown",
      "metadata": {
        "id": "TssqNz6TkDQQ"
      },
      "source": [
        "Extract estimated velocities and their confidences for each pixel\n",
        "\n",
        "Confidences of the estimation is a value in the interval (0, 1) given by the\n",
        "cross conditional variance for each event. OBS: We return 1-CV for cross conditional variance.\n",
        "\n",
        "From conditional averaging we also obtain number of events for each average. This is another variable contained in the class."
      ]
    },
    {
      "cell_type": "code",
      "execution_count": 25,
      "metadata": {
        "id": "9ux5Ivt2kDQQ"
      },
      "outputs": [],
      "source": [
        "vx = movie_data.get_vx()\n",
        "vy = movie_data.get_vy()\n",
        "confidences = movie_data.get_confidences()\n",
        "R = movie_data.get_R()\n",
        "Z = movie_data.get_Z()\n",
        "events = movie_data.get_events()"
      ]
    },
    {
      "cell_type": "markdown",
      "metadata": {
        "id": "_0SfP9uXkDQQ"
      },
      "source": [
        "Use quiver to plot the velocity field. Here, number of events are plotted as the third dimension shown in the colorbar"
      ]
    },
    {
      "cell_type": "code",
      "execution_count": 26,
      "metadata": {
        "colab": {
          "base_uri": "https://localhost:8080/",
          "height": 285
        },
        "id": "vS3hrn6hkDQQ",
        "outputId": "3a64d473-898a-41af-b614-3ff149ea4ddc"
      },
      "outputs": [
        {
          "output_type": "display_data",
          "data": {
            "text/plain": [
              "<Figure size 432x288 with 2 Axes>"
            ],
            "image/png": "[encoded data removed]"
          },
          "metadata": {
            "needs_background": "light"
          }
        }
      ],
      "source": [
        "fig = plt.figure()\n",
        "ax = fig.add_axes(axes_size)\n",
        "\n",
        "norm = mpl.colors.Normalize(vmin=0, vmax=1500) if shot == 1111208034 else None\n",
        "qiv = ax.quiver(\n",
        "    R,\n",
        "    Z,\n",
        "    vx,\n",
        "    vy,\n",
        "    events,\n",
        "    scale=210000, # Scale arrows\n",
        "    scale_units=\"xy\",\n",
        "    angles=\"xy\",\n",
        ")\n",
        "cbar = fig.colorbar(qiv, format=\"%.2f\")\n",
        "cbar.ax.set_ylabel(\"Events\")\n",
        "ax.set_xlabel(\"R [cm]\")\n",
        "ax.set_ylabel(\"Z [cm]\")\n",
        "ax.set_xlim([min(R_coordinates[:, 0]) - 0.5, max(R_coordinates[:, 0]) + 0.5])\n",
        "ax.set_ylim(min(Z_coordinates[0]) - 0.5, max(Z_coordinates[0] + 0.5))\n",
        "ax.set_title(\n",
        "    f\"{min_threshold} \"\n",
        "    r\"$ < \\tilde{\\mathrm{I}} < $ \"\n",
        "    f\"{max_threshold}\"\n",
        ")\n",
        "plt.show()"
      ]
    }
  ],
  "metadata": {
    "kernelspec": {
      "display_name": "Python 3 (ipykernel)",
      "language": "python",
      "name": "python3"
    },
    "language_info": {
      "codemirror_mode": {
        "name": "ipython",
        "version": 3
      },
      "file_extension": ".py",
      "mimetype": "text/x-python",
      "name": "python",
      "nbconvert_exporter": "python",
      "pygments_lexer": "ipython3",
      "version": "3.10.12"
    },
    "colab": {
      "provenance": [],
      "toc_visible": true
    }
  },
  "nbformat": 4,
  "nbformat_minor": 0
}